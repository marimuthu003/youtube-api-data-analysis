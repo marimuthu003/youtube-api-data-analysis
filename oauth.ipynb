{
 "cells": [
  {
   "cell_type": "code",
   "execution_count": null,
   "metadata": {},
   "outputs": [],
   "source": [
    "import os\n",
    "import pickle\n",
    "from googleapiclient.discovery import build\n",
    "from google_auth_oauthlib.flow import InstalledAppFlow\n",
    "from google.auth.transport.requests import Request\n",
    "\n",
    "# token.pickle stores the user's credentials from previously successful logins\n",
    "if os.path.exists('token.pickle'):\n",
    "    print('Loading Credentials From File...')\n",
    "    with open('token.pickle', 'rb') as token:\n",
    "        credentials = pickle.load(token)\n",
    "\n",
    "# If there are no valid credentials available, then either refresh the token or log in.\n",
    "if not credentials or not credentials.valid:\n",
    "    if credentials and credentials.expired and credentials.refresh_token:\n",
    "        print('Refreshing Access Token...')\n",
    "        credentials.refresh(Request())\n",
    "    else:\n",
    "        print('Fetching New Tokens...')\n",
    "        flow = InstalledAppFlow.from_client_secrets_file(\n",
    "            'client_secrets.json',\n",
    "            scopes=[\n",
    "                'https://www.googleapis.com/auth/youtube.readonly'\n",
    "            ]\n",
    "        )\n",
    "\n",
    "        flow.run_local_server(port=8080, prompt='consent',\n",
    "                              authorization_prompt_message='')\n",
    "        credentials = flow.credentials\n",
    "\n",
    "        # Save the credentials for the next run\n",
    "        with open('token.pickle', 'wb') as f:\n",
    "            print('Saving Credentials for Future Use...')\n",
    "            pickle.dump(credentials, f)\n",
    "youtube = build('youtube', 'v3', credentials=credentials)\n",
    "request=youtube.playlistItems().list(part=\"status,contentDetails\",playlistId=\"UUCezIgC97PvUuR4_gbFUs5g\")\n",
    "response=request.execute()\n",
    "print(response)"
   ]
  }
 ],
 "metadata": {
  "kernelspec": {
   "display_name": "env",
   "language": "python",
   "name": "python3"
  },
  "language_info": {
   "codemirror_mode": {
    "name": "ipython",
    "version": 3
   },
   "file_extension": ".py",
   "mimetype": "text/x-python",
   "name": "python",
   "nbconvert_exporter": "python",
   "pygments_lexer": "ipython3",
   "version": "3.12.1"
  }
 },
 "nbformat": 4,
 "nbformat_minor": 2
}
